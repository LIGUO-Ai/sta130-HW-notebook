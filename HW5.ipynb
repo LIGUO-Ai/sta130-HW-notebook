{
 "cells": [
  {
   "cell_type": "markdown",
   "id": "1581ee55",
   "metadata": {},
   "source": [
    "question1:\n",
    "Key factor for testable ideas: The key factor is measurability. For an idea to be examined statistically, it must be quantifiable, meaning there should be data that can be collected, measured, and analyzed objectively.\n",
    "Criteria for a good null hypothesis: A good null hypothesis must be clear, specific, and testable. It should propose no effect or no difference, serving as a baseline assumption that can be rejected or not rejected based on evidence.\n",
    "Difference between null and alternative hypothesis: The null hypothesis (H₀) states that there is no effect or relationship, acting as the default assumption. The alternative hypothesis (H₁) proposes the presence of an effect or relationship, which is what the researcher seeks to support through the evidence gathered.\n",
    "Summary:\n",
    "Testable ideas: Must be measurable and based on data.\n",
    "Good null hypothesis: Clear, specific, and testable, proposing no effect.\n",
    "Null vs. Alternative hypothesis: The null assumes no effect, while the alternative suggests an effect or difference."
   ]
  },
  {
   "cell_type": "markdown",
   "id": "a9b9298d",
   "metadata": {},
   "source": [
    "question2:\n",
    "    The sentence means that when we perform a statistical test, we are trying to draw conclusions about a population (the entire group we are interested in) rather than just the sample (the smaller group we studied). The sample provides data that helps us estimate what's happening in the population, but the final result of the test applies to the population as a whole.\n",
    "\n",
    "Key terms:\n",
    "\n",
    "Population: The entire group we want to learn about (e.g., all voters in a country).\n",
    "Sample: A smaller group selected from the population for study (e.g., 1,000 voters surveyed).\n",
    "Sample statistic: A number that describes the sample (e.g., the average age in the sample).\n",
    "Population parameter: A number that describes the whole population (e.g., the true average age of all voters). The test result aims to provide insight into this parameter.\n",
    "In short, statistical tests help us make conclusions about the population using data from a sample.\n",
    "Summary:\n",
    "    Statistical tests use data from a sample to make conclusions about a population. The results apply to the entire population, not just the sample. A sample statistic describes the sample, while a population parameter represents the whole population, which is the focus of the test.\n",
    "\n",
    "\n"
   ]
  },
  {
   "cell_type": "markdown",
   "id": "9a3fb73e",
   "metadata": {},
   "source": [
    "question3:\n",
    "When calculating a p-value, we imagine a world where the null hypothesis is true because we want to see how likely it is to get our sample results (or more extreme ones) if there is actually no effect or difference in the population. By assuming the null hypothesis is true, we can measure the probability of our observed data happening by chance. If this probability (the p-value) is very low, it suggests that the null hypothesis is unlikely to be true, leading us to consider the alternative hypothesis instead."
   ]
  },
  {
   "cell_type": "markdown",
   "id": "65ceb4b7",
   "metadata": {},
   "source": [
    "question4:\n",
    "A smaller p-value makes the null hypothesis look more ridiculous because it shows that the chance of getting the observed results (or something more extreme) is very low if the null hypothesis were true. In other words, the smaller the p-value, the less believable it is that there’s no effect or difference, which is what the null hypothesis claims.\n",
    "\n",
    "Key terms:\n",
    "\n",
    "P-value: The probability of getting the observed results (or more extreme ones) assuming the null hypothesis is true.\n",
    "Null hypothesis: The assumption that there is no effect or difference in the population.\n",
    "So, a small p-value suggests that the observed data is very unlikely to happen by chance, making the idea that \"nothing is happening\" (the null hypothesis) seem unreasonable."
   ]
  },
  {
   "cell_type": "markdown",
   "id": "99620db2",
   "metadata": {},
   "source": [
    "qeustion5:\n",
    "Steps to calculate the p-value:\n",
    "Understand the null hypothesis: The null hypothesis assumes no preference, meaning the probability of tilting right is 50%, or p=0.50.\n",
    "Observed data:\n",
    "80 out of 124 couples tilted their heads to the right.\n",
    "The observed proportion is 80/124=0.645 or 64.5%.\n",
    "Under the null hypothesis, we would expect about 50% to tilt their heads right. For 124 couples, this would be \n",
    "0.50×124=62.\n",
    "Calculate the p-value:\n",
    "To calculate the p-value, we need to determine the probability of observing a result as extreme as 80 couples tilting right (or more extreme) if the true probability is 50%.\n",
    "This can be done using a binomial test or simulation where we calculate how likely it is to get 80 or more couples tilting right under a 50/50 probability.\n",
    "Compare the p-value to the table:\n",
    "Based on the p-value calculated, we compare it to the provided table to determine the strength of evidence against H0.\n",
    "And the p-value is 0.00078.\n",
    "Since the p-value is less than 0.01, this provides strong evidence against the null hypothesis H0."
   ]
  },
  {
   "cell_type": "markdown",
   "id": "d0261468",
   "metadata": {},
   "source": [
    "question6:\n",
    "A smaller p-value cannot definitively prove that the null hypothesis is false. It only indicates that the observed data is unlikely under the assumption of the null hypothesis. Similarly, in Fido's case from the video, a p-value cannot definitively prove innocence or guilt—it only shows how likely the observed evidence is under the assumption that Fido is innocent (the null hypothesis).\n",
    "\n",
    "Innocence (Null Hypothesis): A p-value can suggest that Fido is likely innocent if it is large, but it cannot prove innocence with certainty.\n",
    "Guilt (Alternative Hypothesis): A small p-value suggests strong evidence against innocence (i.e., evidence of guilt), but it still cannot prove guilt definitively.\n",
    "P-values never offer 100% proof; they simply give a level of evidence. There's no specific threshold where a p-value can absolutely prove innocence or guilt—it only quantifies the strength of the evidence against the null hypothesis."
   ]
  },
  {
   "cell_type": "markdown",
   "id": "ae36be7e",
   "metadata": {},
   "source": [
    "question7:\n",
    "wo-Tailed Test: Tests for any difference (greater or less than). A significant p-value indicates that the sample mean is significantly different from the population mean, regardless of direction.\n",
    "One-Tailed Test: Tests for a specific direction (either greater or less). A significant p-value indicates that the sample mean is significantly greater (or less) than the population mean, depending on your hypothesis.\n",
    "One-Tailed vs. Two-Tailed: You can expect the p-value from a one-tailed test to be smaller than that from a two-tailed test when testing the same hypothesis. This is because the one-tailed test looks for significance in only one direction, making it easier to achieve significance than a two-tailed test, which spreads the alpha level across both tails.\n",
    "Suumary:\n",
    "Code Adjustments:\n",
    "From Two-Tailed: The original code multiplies the p-value by 2 to account for both tails.\n",
    "To One-Tailed: Remove the multiplication by 2. Use stats.t.sf(t_stat) for a test checking if the sample mean is greater than the population mean. If checking for less, use stats.t.cdf(t_stat).\n",
    "Interpretation Changes:\n",
    "Two-Tailed Test: Tests for any significant difference (greater or less).\n",
    "One-Tailed Test: Tests for significance in a specific direction (either greater or less).\n",
    "P-value Expectation:\n",
    "The p-value from a one-tailed test is generally expected to be smaller than that from a two-tailed test since it only assesses one direction, making it easier to achieve significance."
   ]
  },
  {
   "cell_type": "markdown",
   "id": "27598b63",
   "metadata": {},
   "source": [
    "question8:\n",
    "   Here's my report\n",
    "\n",
    "Null and Alternative Hypotheses H0:\n",
    "\n",
    " • Null Hypothesis : The students are randomly guessing, and the proportion of students who correctly identify the pouring order is p0=0.5.\n",
    " • Alternative Hypothes is HA: The students can identify the pouring order better than random guessing, so the proportion is p>0.5.\n",
    "\n",
    "Quantitative Analysis:\n",
    "\n",
    " 1. Z-Test for Proportion:\n",
    " • Sample Proportion : 49 out of 80 students correctly identified the pouring order, giving a sample proportion of:\n",
    "49/80=0.6125\n",
    " • Z-Statistic: Using a one-sample z-test for proportions, the z-statistic was calculated as approximately 2.01.\n",
    " • P-Value: The one-tailed p-value for this test was approximately 0.022.\n",
    "Since the p-value is less than the significance level of 0.05, we reject the null hypothesis. This suggests that there is evidence that STA130 students can correctly identify the pouring order better than random guessing.\n",
    " 2. Confidence Interval:\n",
    "A 95% confidence interval for the true proportion of students who can identify the pouring order is:(0.506,0.719)\n",
    "\n",
    "This means we are 95% confident that the true proportion of students who can correctly identify the order lies between 50.6% and 71.9%, further supporting the conclusion that the students perform better than random guessing.\n",
    "\n",
    "Conclusion:\n",
    "\n",
    "Based on the statistical test and the confidence interval, there is strong evidence to suggest that STA130 students are able to correctly identify the pouring order of tea and milk better than random guessing. This aligns with the original findings of Fisher’s tea experiment, where some individuals possess the ability to distinguish subtle differences in the process.\n"
   ]
  },
  {
   "cell_type": "markdown",
   "id": "12b9cef3",
   "metadata": {},
   "source": [
    "question9:\n",
    "Yes"
   ]
  }
 ],
 "metadata": {
  "kernelspec": {
   "display_name": "Python 3 (ipykernel)",
   "language": "python",
   "name": "python3"
  },
  "language_info": {
   "codemirror_mode": {
    "name": "ipython",
    "version": 3
   },
   "file_extension": ".py",
   "mimetype": "text/x-python",
   "name": "python",
   "nbconvert_exporter": "python",
   "pygments_lexer": "ipython3",
   "version": "3.11.6"
  }
 },
 "nbformat": 4,
 "nbformat_minor": 5
}
