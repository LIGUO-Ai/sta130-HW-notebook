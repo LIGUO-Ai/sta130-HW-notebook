{
 "cells": [
  {
   "cell_type": "code",
   "execution_count": 1,
   "id": "8ac6c847",
   "metadata": {},
   "outputs": [
    {
     "data": {
      "text/plain": [
       "row_n           0\n",
       "id              1\n",
       "name            0\n",
       "gender          0\n",
       "species         0\n",
       "birthday        0\n",
       "personality     0\n",
       "song           11\n",
       "phrase          0\n",
       "full_id         0\n",
       "url             0\n",
       "dtype: int64"
      ]
     },
     "execution_count": 1,
     "metadata": {},
     "output_type": "execute_result"
    }
   ],
   "source": [
    "import pandas as pd #question 1\n",
    "url = \"https://raw.githubusercontent.com/rfordatascience/tidytuesday/master/data/2020/2020-05-05/villagers.csv\"\n",
    "df = pd.read_csv(url)\n",
    "df.isna().sum()"
   ]
  },
  {
   "cell_type": "code",
   "execution_count": 2,
   "id": "82e24de3",
   "metadata": {},
   "outputs": [
    {
     "name": "stdout",
     "output_type": "stream",
     "text": [
      "   row_n       id     name  gender    species birthday personality  \\\n",
      "0      2  admiral  Admiral    male       bird     1-27      cranky   \n",
      "1      3  agent-s  Agent S  female   squirrel      7-2       peppy   \n",
      "2      4    agnes    Agnes  female        pig     4-21        uchi   \n",
      "3      6       al       Al    male    gorilla    10-18        lazy   \n",
      "4      7  alfonso  Alfonso    male  alligator      6-9        lazy   \n",
      "\n",
      "          song    phrase           full_id  \\\n",
      "0   Steep Hill   aye aye  villager-admiral   \n",
      "1      DJ K.K.  sidekick  villager-agent-s   \n",
      "2   K.K. House   snuffle    villager-agnes   \n",
      "3   Steep Hill   Ayyeeee       villager-al   \n",
      "4  Forest Life  it'sa me  villager-alfonso   \n",
      "\n",
      "                                                 url  \n",
      "0  https://villagerdb.com/images/villagers/thumb/...  \n",
      "1  https://villagerdb.com/images/villagers/thumb/...  \n",
      "2  https://villagerdb.com/images/villagers/thumb/...  \n",
      "3  https://villagerdb.com/images/villagers/thumb/...  \n",
      "4  https://villagerdb.com/images/villagers/thumb/...  \n",
      "\n",
      "The dataset has 391 rows and 11 columns.\n",
      "\n",
      "Columns in the dataset:\n",
      "\n",
      "Index(['row_n', 'id', 'name', 'gender', 'species', 'birthday', 'personality',\n",
      "       'song', 'phrase', 'full_id', 'url'],\n",
      "      dtype='object')\n"
     ]
    }
   ],
   "source": [
    "import pandas as pd #question 2\n",
    "\n",
    "# Load the dataset\n",
    "url = \"https://raw.githubusercontent.com/rfordatascience/tidytuesday/master/data/2020/2020-05-05/villagers.csv\"\n",
    "df = pd.read_csv(url)\n",
    "\n",
    "# Display the first few rows of the dataset to understand its structure\n",
    "print(df.head())\n",
    "\n",
    "# Get the number of rows and columns\n",
    "print(f\"\\nThe dataset has {df.shape[0]} rows and {df.shape[1]} columns.\\n\")\n",
    "\n",
    "# List all the columns in the dataset\n",
    "print(\"Columns in the dataset:\\n\")\n",
    "print(df.columns)\n"
   ]
  },
  {
   "cell_type": "markdown",
   "id": "0e8f13b1",
   "metadata": {},
   "source": [
    "Here's my definitions of \"observation\" and \"variables\". 1.I think observation is like a describtion.You observe one kind of objects and gather all the information about it.It countains much variables. 2.I think variables are something about this kind of object that you observed.It is changeble and it can have different values.In this data base,id,names,gender...they are variables."
   ]
  },
  {
   "cell_type": "code",
   "execution_count": 3,
   "id": "62deef38",
   "metadata": {},
   "outputs": [
    {
     "name": "stdout",
     "output_type": "stream",
     "text": [
      "<class 'pandas.core.frame.DataFrame'>\n",
      "RangeIndex: 391 entries, 0 to 390\n",
      "Data columns (total 11 columns):\n",
      " #   Column       Non-Null Count  Dtype \n",
      "---  ------       --------------  ----- \n",
      " 0   row_n        391 non-null    int64 \n",
      " 1   id           390 non-null    object\n",
      " 2   name         391 non-null    object\n",
      " 3   gender       391 non-null    object\n",
      " 4   species      391 non-null    object\n",
      " 5   birthday     391 non-null    object\n",
      " 6   personality  391 non-null    object\n",
      " 7   song         380 non-null    object\n",
      " 8   phrase       391 non-null    object\n",
      " 9   full_id      391 non-null    object\n",
      " 10  url          391 non-null    object\n",
      "dtypes: int64(1), object(10)\n",
      "memory usage: 33.7+ KB\n",
      "   row_n       id     name  gender    species birthday personality  \\\n",
      "0      2  admiral  Admiral    male       bird     1-27      cranky   \n",
      "1      3  agent-s  Agent S  female   squirrel      7-2       peppy   \n",
      "2      4    agnes    Agnes  female        pig     4-21        uchi   \n",
      "3      6       al       Al    male    gorilla    10-18        lazy   \n",
      "4      7  alfonso  Alfonso    male  alligator      6-9        lazy   \n",
      "\n",
      "          song    phrase           full_id  \\\n",
      "0   Steep Hill   aye aye  villager-admiral   \n",
      "1      DJ K.K.  sidekick  villager-agent-s   \n",
      "2   K.K. House   snuffle    villager-agnes   \n",
      "3   Steep Hill   Ayyeeee       villager-al   \n",
      "4  Forest Life  it'sa me  villager-alfonso   \n",
      "\n",
      "                                                 url  \n",
      "0  https://villagerdb.com/images/villagers/thumb/...  \n",
      "1  https://villagerdb.com/images/villagers/thumb/...  \n",
      "2  https://villagerdb.com/images/villagers/thumb/...  \n",
      "3  https://villagerdb.com/images/villagers/thumb/...  \n",
      "4  https://villagerdb.com/images/villagers/thumb/...  \n",
      "            row_n\n",
      "count  391.000000\n",
      "mean   239.902813\n",
      "std    140.702672\n",
      "min      2.000000\n",
      "25%    117.500000\n",
      "50%    240.000000\n",
      "75%    363.500000\n",
      "max    483.000000\n",
      "row_n           0\n",
      "id              1\n",
      "name            0\n",
      "gender          0\n",
      "species         0\n",
      "birthday        0\n",
      "personality     0\n",
      "song           11\n",
      "phrase          0\n",
      "full_id         0\n",
      "url             0\n",
      "dtype: int64\n"
     ]
    }
   ],
   "source": [
    "import pandas as pd #question 3\n",
    "\n",
    "# Load the dataset\n",
    "url = \"https://raw.githubusercontent.com/rfordatascience/tidytuesday/master/data/2020/2020-05-05/villagers.csv\"\n",
    "df = pd.read_csv(url)\n",
    "\n",
    "# 1. Display basic information about the dataset\n",
    "df.info()\n",
    "\n",
    "# 2. Display the first few rows of the dataset\n",
    "print(df.head())\n",
    "\n",
    "# 3. Generate descriptive statistics for numerical columns\n",
    "print(df.describe())\n",
    "\n",
    "# 4. Check for missing values\n",
    "print(df.isnull().sum())"
   ]
  },
  {
   "cell_type": "markdown",
   "id": "7518d1f5",
   "metadata": {},
   "source": [
    "question 4.\n",
    "First of all, df.shape returns the number of rows and columns of the data frame and df.describe() mainly provides statistical descriptions for numeric columns. For part (a), df.describe() only analyzes numeric columns. So if there are non - numeric variables in the dataset, the number of columns analyzed by df.describe() will be less than the total number of columns given by df.shape. For part (b), in the \"count\" column of df.describe(), it reports the number of non - missing values in each numeric column. If there are missing values in a numeric column, then the value in the \"count\" column will be less than the total number of records in that column, while df.shape gives the total number of records including missing values.\n"
   ]
  },
  {
   "cell_type": "markdown",
   "id": "b4d30a6b",
   "metadata": {},
   "source": [
    "question 5.\n",
    "An attribute is the inherent data information of an object itself, and relevant information can be obtained by simple reference (without parentheses); a method is an operation function acting on an object, which needs to be called (with parentheses) to execute a specific operation process and return the corresponding result according to the operation."
   ]
  },
  {
   "cell_type": "markdown",
   "id": "9e436634",
   "metadata": {},
   "source": [
    "question 6\n",
    "• Count: The number of non-missing values in the variable.\n",
    "\n",
    "• Mean: The average value of the variable. It is calculated by summing all the values and dividing by the count.\n",
    "\n",
    "• Std: A measure of the dispersion or spread of the data. It shows how much the values deviate from the mean.\n",
    "\n",
    "• Min: The minimum value in the variable.\n",
    "\n",
    "• 25%: The first quartile. 25% of the data lies below this value.\n",
    "\n",
    "• 50%: The median. Half of the data lies below this value and half above.\n",
    "\n",
    "• 75%: The third quartile. 75% of the data lies below this value.\n",
    "\n",
    "• Max: The maximum value in the variable.\n",
    "When there is missing data in a column, df.describe() calculates the summary statistics based on the non - missing values only. It ignores the missing values and computes the relevant statistics (count, mean, etc.) from the available data points in that column. This is why it can still provide results without explicitly removing the rows with missing values.\n",
    "\n",
    "However, as mentioned, not all methods are designed to handle missing data in this way. Some methods may require explicitly removing rows or columns with missing data to function properly or give accurate results. The behavior of df.describe() shows that in some cases working with the non - missing data implicitly can be sufficient, but for other analyses, explicit handling of missing data might be necessary depending on the requirements and the nature of the method being used."
   ]
  },
  {
   "cell_type": "markdown",
   "id": "f80c33c3",
   "metadata": {},
   "source": [
    "question 7.\n",
    "Use case for df.dropna() over del df['col']:\n",
    "\n",
    "There's a dataset about students with columns like student ID, exam scores for different subjects, and attendance. If some students have missing exam scores but we want to analyze overall performance and attendance together, df.dropna() is better.\n",
    "\n",
    "For example:\n",
    "Student ID Math Score Science Score History Score Attendance \n",
    "1 85 90 88 95% \n",
    "2 76 NaN 92 90% \n",
    "3 90 87 85 88% \n",
    "\n",
    "Using del df['Science Score'] loses all science score info. But df.dropna() only removes the row of student 2, and we can analyze relationships between other variables for the remaining students. This is useful when we want to keep more data for analysis across columns and just remove incomplete data points (rows) instead of a whole variable (column).\n",
    "Opposite use case example:\n",
    "\n",
    "Consider a house dataset with columns for house ID, bedrooms, bathrooms, square footage, and a column for having a pool (with many missing values).\n",
    "\n",
    "If we focus on analyzing the relationship between bedrooms, bathrooms, and square footage for house prices, and the pool info isn't crucial.\n",
    "\n",
    "For example:\n",
    "House ID Bedrooms Bathrooms Square Footage Pool \n",
    "1 3 2 1500 NaN \n",
    "2 4 3 2000 Yes \n",
    "3 2 1 1000 NaN \n",
    "\n",
    "Here, del df['Pool'] is better than df.dropna(). Using df.dropna() might remove many rows due to missing pool info. With del df['Pool'], we keep data for main aspects without being affected by missing values in the less important 'Pool' column.\n",
    "Applying del df['col'] before df.dropna() is important:\n",
    "\n",
    "Reducing Complexity: A column with many missing values makes the process more complex. Removing it first reduces computational effort.\n",
    "\n",
    "Avoid Unnecessary Removal: Without removing a column with high missing values first, df.dropna() may wrongly remove rows.\n",
    "\n",
    "Data Relevance: Removing an unimportant column with many missing values first helps focus on relevant data for df.dropna()."
   ]
  }
 ],
 "metadata": {
  "kernelspec": {
   "display_name": "Python 3 (ipykernel)",
   "language": "python",
   "name": "python3"
  },
  "language_info": {
   "codemirror_mode": {
    "name": "ipython",
    "version": 3
   },
   "file_extension": ".py",
   "mimetype": "text/x-python",
   "name": "python",
   "nbconvert_exporter": "python",
   "pygments_lexer": "ipython3",
   "version": "3.11.6"
  }
 },
 "nbformat": 4,
 "nbformat_minor": 5
}
